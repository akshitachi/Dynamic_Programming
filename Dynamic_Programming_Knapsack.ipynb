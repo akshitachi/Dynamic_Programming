{
 "cells": [
  {
   "cell_type": "markdown",
   "id": "034ab388",
   "metadata": {},
   "source": [
    "# Main Problem"
   ]
  },
  {
   "cell_type": "code",
   "execution_count": 1,
   "id": "2b4840e2",
   "metadata": {},
   "outputs": [
    {
     "data": {
      "text/plain": [
       "9"
      ]
     },
     "execution_count": 1,
     "metadata": {},
     "output_type": "execute_result"
    }
   ],
   "source": [
    "def knapsack(val,wt,W,n):\n",
    "    if n==0 or W==0:\n",
    "        return 0\n",
    "    \n",
    "    if (wt[n-1]<=W):\n",
    "        return max(val[n-1]+knapsack(val,wt,W-wt[n-1],n-1),knapsack(val,wt,W,n-1))\n",
    "    elif(wt[n-1]>W):\n",
    "        return knapsack(val,wt,W,n-1)\n",
    "\n",
    "val = [1,4,5,7]\n",
    "wt = [1,3,4,5]\n",
    "W=7\n",
    "knapsack(val,wt,W,4)"
   ]
  },
  {
   "cell_type": "markdown",
   "id": "da091f1d",
   "metadata": {},
   "source": [
    "# Memoized"
   ]
  },
  {
   "cell_type": "code",
   "execution_count": 2,
   "id": "a4a1cf34",
   "metadata": {},
   "outputs": [
    {
     "data": {
      "text/plain": [
       "9"
      ]
     },
     "execution_count": 2,
     "metadata": {},
     "output_type": "execute_result"
    }
   ],
   "source": [
    "def knapsack(val,wt,W,n):\n",
    "    if n==0 or W==0:\n",
    "        return 0\n",
    "    if dp[W][n]!=-1:\n",
    "        return dp[W][n]\n",
    "    \n",
    "    if (wt[n-1]<=W):\n",
    "        dp[W][n]= max(val[n-1]+knapsack(val,wt,W-wt[n-1],n-1),knapsack(val,wt,W,n-1))\n",
    "        return dp[W][n]\n",
    "    elif(wt[n-1]>W):\n",
    "        dp[W][n]=knapsack(val,wt,W,n-1)\n",
    "        return dp[W][n]\n",
    "\n",
    "val = [1,4,5,7]\n",
    "wt = [1,3,4,5]\n",
    "W=7\n",
    "n=4\n",
    "dp = [[-1 for i in range(W+5)] for j in range(n+5)]\n",
    "knapsack(val,wt,W,n)"
   ]
  },
  {
   "cell_type": "markdown",
   "id": "da984167",
   "metadata": {},
   "source": [
    "# Iteration using top down table"
   ]
  },
  {
   "cell_type": "code",
   "execution_count": 4,
   "id": "e9794e44",
   "metadata": {},
   "outputs": [
    {
     "data": {
      "text/plain": [
       "9"
      ]
     },
     "execution_count": 4,
     "metadata": {},
     "output_type": "execute_result"
    }
   ],
   "source": [
    "def knapsack(val,wt,W,n):\n",
    "    for i in range(n+1):\n",
    "        for j in range(W+1):\n",
    "            if i==0 or j==0:\n",
    "                dp[i][j]=0\n",
    "            if wt[i-1]<=j:\n",
    "                dp[i][j] = max(val[i-1] + dp[i-1][j-wt[i-1]],dp[i-1][j])\n",
    "                \n",
    "            else:\n",
    "                dp[i][j]=dp[i-1][j]\n",
    "    return dp[n][W]\n",
    "\n",
    "val = [1,4,5,7]\n",
    "wt = [1,3,4,5]\n",
    "W=7\n",
    "n=4\n",
    "dp = [[0 for i in range(W+1)] for j in range(n+1)]\n",
    "knapsack(val,wt,W,n)"
   ]
  },
  {
   "cell_type": "code",
   "execution_count": null,
   "id": "65455b46",
   "metadata": {},
   "outputs": [],
   "source": []
  }
 ],
 "metadata": {
  "kernelspec": {
   "display_name": "Python 3 (ipykernel)",
   "language": "python",
   "name": "python3"
  },
  "language_info": {
   "codemirror_mode": {
    "name": "ipython",
    "version": 3
   },
   "file_extension": ".py",
   "mimetype": "text/x-python",
   "name": "python",
   "nbconvert_exporter": "python",
   "pygments_lexer": "ipython3",
   "version": "3.9.13"
  }
 },
 "nbformat": 4,
 "nbformat_minor": 5
}

{
 "cells": [
  {
   "cell_type": "markdown",
   "id": "ee1c586c",
   "metadata": {},
   "source": [
    "# Main Problem"
   ]
  },
  {
   "cell_type": "code",
   "execution_count": 1,
   "id": "721e06e9",
   "metadata": {},
   "outputs": [
    {
     "data": {
      "text/plain": [
       "9"
      ]
     },
     "execution_count": 1,
     "metadata": {},
     "output_type": "execute_result"
    }
   ],
   "source": [
    "def knapsack(val,wt,W,n):\n",
    "    if n==0 or W==0:\n",
    "        return 0\n",
    "    \n",
    "    if (wt[n-1]<=W):\n",
    "        return max(val[n-1]+knapsack(val,wt,W-wt[n-1],n-1),knapsack(val,wt,W,n-1))\n",
    "    elif(wt[n-1]>W):\n",
    "        return knapsack(val,wt,W,n-1)\n",
    "\n",
    "val = [1,4,5,7]\n",
    "wt = [1,3,4,5]\n",
    "W=7\n",
    "knapsack(val,wt,W,4)"
   ]
  },
  {
   "cell_type": "markdown",
   "id": "d9dc2e54",
   "metadata": {},
   "source": [
    "# Memoized"
   ]
  },
  {
   "cell_type": "code",
   "execution_count": 2,
   "id": "24aa410a",
   "metadata": {},
   "outputs": [
    {
     "data": {
      "text/plain": [
       "9"
      ]
     },
     "execution_count": 2,
     "metadata": {},
     "output_type": "execute_result"
    }
   ],
   "source": [
    "def knapsack(val,wt,W,n):\n",
    "    if n==0 or W==0:\n",
    "        return 0\n",
    "    if dp[W][n]!=-1:\n",
    "        return dp[W][n]\n",
    "    \n",
    "    if (wt[n-1]<=W):\n",
    "        dp[W][n]= max(val[n-1]+knapsack(val,wt,W-wt[n-1],n-1),knapsack(val,wt,W,n-1))\n",
    "        return dp[W][n]\n",
    "    elif(wt[n-1]>W):\n",
    "        dp[W][n]=knapsack(val,wt,W,n-1)\n",
    "        return dp[W][n]\n",
    "\n",
    "val = [1,4,5,7]\n",
    "wt = [1,3,4,5]\n",
    "W=7\n",
    "n=4\n",
    "dp = [[-1 for i in range(W+5)] for j in range(n+5)]\n",
    "knapsack(val,wt,W,n)"
   ]
  },
  {
   "cell_type": "markdown",
   "id": "f8fe26c3",
   "metadata": {},
   "source": [
    "# Iteration using top down table"
   ]
  },
  {
   "cell_type": "code",
   "execution_count": 5,
   "id": "8a23e258",
   "metadata": {},
   "outputs": [
    {
     "data": {
      "text/plain": [
       "9"
      ]
     },
     "execution_count": 5,
     "metadata": {},
     "output_type": "execute_result"
    }
   ],
   "source": [
    "def knapsack(val,wt,W,n):\n",
    "    for i in range(n+1):\n",
    "        for j in range(W+1):\n",
    "            if i==0 or j==0:\n",
    "                dp[i][j]=0\n",
    "            if wt[i-1]<=j:\n",
    "                dp[i][j] = max(val[i-1] + dp[i-1][j-wt[i-1]],dp[i-1][j])\n",
    "                \n",
    "            else:\n",
    "                dp[i][j]=dp[i-1][j]\n",
    "    return dp[n][W]\n",
    "\n",
    "val = [1,4,5,7]\n",
    "wt = [1,3,4,5]\n",
    "W=7\n",
    "n=4\n",
    "dp = [[0 for i in range(W+1)] for j in range(n+1)]\n",
    "knapsack(val,wt,W,n)"
   ]
  },
  {
   "cell_type": "markdown",
   "id": "d1a4a4d5",
   "metadata": {},
   "source": [
    "# Subset sum"
   ]
  },
  {
   "cell_type": "code",
   "execution_count": 6,
   "id": "f24fccfa",
   "metadata": {},
   "outputs": [
    {
     "data": {
      "text/plain": [
       "False"
      ]
     },
     "execution_count": 6,
     "metadata": {},
     "output_type": "execute_result"
    }
   ],
   "source": [
    "def subset_sum(arr,sumT,n):\n",
    "    dp = ([[False for i in range(sumT + 1)]\n",
    "            for i in range(n + 1)])\n",
    "    for i in range(n+1):\n",
    "        dp[i][0]=True\n",
    "    for j in range(sumT+1):\n",
    "        dp[0][j]=False\n",
    "    for i in range(n+1):\n",
    "        for j in range(sumT+1):\n",
    "            \n",
    "            if arr[i-1]<=j:\n",
    "                dp[i][j] =  dp[i-1][j-arr[i-1]] or dp[i-1][j]\n",
    "                \n",
    "            else:\n",
    "                dp[i][j]=dp[i-1][j]\n",
    "    return dp[n][sumT]\n",
    "\n",
    "\n",
    "\n",
    "arr = [3, 34, 4, 12]\n",
    "sumT = 9\n",
    "n=len(arr)\n",
    "# dp = [[False for i in range(sumT+1)] for j in range(n+1)]\n",
    "subset_sum(arr,sumT,n)"
   ]
  },
  {
   "cell_type": "markdown",
   "id": "672a9c04",
   "metadata": {},
   "source": [
    "# Count of subset sum"
   ]
  },
  {
   "cell_type": "code",
   "execution_count": 7,
   "id": "31694005",
   "metadata": {},
   "outputs": [
    {
     "data": {
      "text/plain": [
       "1"
      ]
     },
     "execution_count": 7,
     "metadata": {},
     "output_type": "execute_result"
    }
   ],
   "source": [
    "def subset_sum(arr,sumT,n):\n",
    "    dp = ([[[0] for i in range(sumT + 1)]\n",
    "            for i in range(n + 1)])\n",
    "    \n",
    "    dp[0][0]=1\n",
    "    for i in range(1,sumT+1):\n",
    "        dp[0][i]=0\n",
    "    \n",
    "    for i in range(1,n+1):\n",
    "        for j in range(sumT+1):\n",
    "    \n",
    "            if arr[i-1]<=j:\n",
    "                dp[i][j] = dp[i-1][j-arr[i-1]] + dp[i-1][j]\n",
    "                \n",
    "            else:\n",
    "                dp[i][j]=dp[i-1][j]\n",
    "    return dp[n][sumT]\n",
    "\n",
    "\n",
    "\n",
    "arr = [3, 34, 4, 2]\n",
    "sumT = 9\n",
    "n=len(arr)\n",
    "# dp = [[False for i in range(sumT+1)] for j in range(n+1)]\n",
    "subset_sum(arr,sumT,n)"
   ]
  },
  {
   "cell_type": "markdown",
   "id": "164f8aca",
   "metadata": {},
   "source": [
    "# Count difference or target sum\n"
   ]
  },
  {
   "cell_type": "code",
   "execution_count": 9,
   "id": "5090df96",
   "metadata": {},
   "outputs": [
    {
     "data": {
      "text/plain": [
       "3"
      ]
     },
     "execution_count": 9,
     "metadata": {},
     "output_type": "execute_result"
    }
   ],
   "source": [
    "def count_diff_subset_sum(arr,diff):\n",
    "    n=len(arr)\n",
    "    Sum = 0\n",
    "    for i in range(n):\n",
    "        Sum+=arr[i]\n",
    "    finalSum = (diff+Sum)//2\n",
    "    return subset_sum(arr,finalSum,n)\n",
    "arr= [1,1,2,3]\n",
    "diff =1\n",
    "count_diff_subset_sum(arr,diff)"
   ]
  },
  {
   "cell_type": "markdown",
   "id": "adee1be0",
   "metadata": {},
   "source": [
    "# Rod cutting problem"
   ]
  },
  {
   "cell_type": "code",
   "execution_count": 10,
   "id": "2cbce40b",
   "metadata": {},
   "outputs": [
    {
     "data": {
      "text/plain": [
       "9"
      ]
     },
     "execution_count": 10,
     "metadata": {},
     "output_type": "execute_result"
    }
   ],
   "source": [
    "def rod_cut(val,wt,W,n):\n",
    "    for i in range(n+1):\n",
    "        for j in range(W+1):\n",
    "            if i==0 or j==0:\n",
    "                dp[i][j]=0\n",
    "            if wt[i-1]<=j:\n",
    "                dp[i][j] = max(val[i-1] + dp[i][j-wt[i-1]],dp[i-1][j])\n",
    "                \n",
    "            else:\n",
    "                dp[i][j]=dp[i-1][j]\n",
    "    return dp[n][W]\n",
    "\n",
    "val = [1,4,5,7]\n",
    "wt = [1,3,4,5]\n",
    "W=7\n",
    "n=4\n",
    "dp = [[0 for i in range(W+1)] for j in range(n+1)]\n",
    "rod_cut(val,wt,W,n)"
   ]
  }
 ],
 "metadata": {
  "kernelspec": {
   "display_name": "Python 3 (ipykernel)",
   "language": "python",
   "name": "python3"
  },
  "language_info": {
   "codemirror_mode": {
    "name": "ipython",
    "version": 3
   },
   "file_extension": ".py",
   "mimetype": "text/x-python",
   "name": "python",
   "nbconvert_exporter": "python",
   "pygments_lexer": "ipython3",
   "version": "3.9.13"
  }
 },
 "nbformat": 4,
 "nbformat_minor": 5
}
